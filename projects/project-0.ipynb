{
 "cells": [
  {
   "cell_type": "markdown",
   "metadata": {},
   "source": [
    "## Statistics on login of professors to the virtual campus of the University of Cordoba\n",
    "___\n",
    "The following notebook uses descriptive statistics on the login data set of professors by department at the University of Córdoba.\n",
    "\n",
    "Preparation of the dataset. Encrypting user IDs and removing unnecessary columns."
   ]
  },
  {
   "cell_type": "code",
   "execution_count": 2,
   "metadata": {},
   "outputs": [],
   "source": [
    "import pandas as pd\n",
    "import numpy as np\n",
    "import hashlib"
   ]
  },
  {
   "cell_type": "code",
   "execution_count": 3,
   "metadata": {},
   "outputs": [
    {
     "name": "stderr",
     "output_type": "stream",
     "text": [
      "C:\\Users\\USUARIO\\AppData\\Local\\Temp\\ipykernel_17464\\2019559305.py:2: DtypeWarning: Columns (1,2,11) have mixed types. Specify dtype option on import or set low_memory=False.\n",
      "  data_csv = pd.read_csv('../priv/data.csv', delimiter=';')\n"
     ]
    }
   ],
   "source": [
    "# Load data\n",
    "data_csv = pd.read_csv('../priv/data.csv', delimiter=';')"
   ]
  },
  {
   "cell_type": "code",
   "execution_count": 4,
   "metadata": {},
   "outputs": [
    {
     "data": {
      "text/plain": [
       "(488332, 12)"
      ]
     },
     "execution_count": 4,
     "metadata": {},
     "output_type": "execute_result"
    }
   ],
   "source": [
    "# Rows and columns\n",
    "data_csv.shape"
   ]
  },
  {
   "cell_type": "code",
   "execution_count": 5,
   "metadata": {},
   "outputs": [
    {
     "name": "stdout",
     "output_type": "stream",
     "text": [
      "<class 'pandas.core.frame.DataFrame'>\n",
      "RangeIndex: 488332 entries, 0 to 488331\n",
      "Data columns (total 12 columns):\n",
      " #   Column        Non-Null Count   Dtype \n",
      "---  ------        --------------   ----- \n",
      " 0   id            488332 non-null  int64 \n",
      " 1   idnumber      487849 non-null  object\n",
      " 2   username      488332 non-null  object\n",
      " 3   firstname     488332 non-null  object\n",
      " 4   lastname      488332 non-null  object\n",
      " 5   department    485877 non-null  object\n",
      " 6   id.1          488332 non-null  int64 \n",
      " 7   eventname     488332 non-null  object\n",
      " 8   timecreated   488332 non-null  int64 \n",
      " 9   ip            488332 non-null  object\n",
      " 10  rol           484093 non-null  object\n",
      " 11  departamento  18501 non-null   object\n",
      "dtypes: int64(3), object(9)\n",
      "memory usage: 44.7+ MB\n"
     ]
    }
   ],
   "source": [
    "# Dataset Information \n",
    "data_csv.info()"
   ]
  },
  {
   "cell_type": "code",
   "execution_count": 6,
   "metadata": {},
   "outputs": [],
   "source": [
    "# Create a new column\n",
    "data_csv['userid'] = data_csv['idnumber']"
   ]
  },
  {
   "cell_type": "code",
   "execution_count": 7,
   "metadata": {},
   "outputs": [],
   "source": [
    "# Define a function to encrypt data\n",
    "def generate_hash_sha256(texto):\n",
    "    \"\"\"Generates a SHA-256 hash from text.\n",
    "\n",
    "    Args:\n",
    "        texto: Text to hashear.\n",
    "\n",
    "    Returns:\n",
    "        str: Hash SHA-256 in hexadecimal format.\n",
    "    \"\"\"\n",
    "    return hashlib.sha256(texto.encode('utf-8')).hexdigest()\n",
    "\n",
    "# Convert int to str data\n",
    "data_csv['userid'] = data_csv['idnumber'].astype(str)\n",
    "\n",
    "# Invoke the function to encrypt the data\n",
    "data_csv['userid'] = data_csv['userid'].apply(generate_hash_sha256)"
   ]
  },
  {
   "cell_type": "code",
   "execution_count": 8,
   "metadata": {},
   "outputs": [
    {
     "data": {
      "text/html": [
       "<div>\n",
       "<style scoped>\n",
       "    .dataframe tbody tr th:only-of-type {\n",
       "        vertical-align: middle;\n",
       "    }\n",
       "\n",
       "    .dataframe tbody tr th {\n",
       "        vertical-align: top;\n",
       "    }\n",
       "\n",
       "    .dataframe thead th {\n",
       "        text-align: right;\n",
       "    }\n",
       "</style>\n",
       "<table border=\"1\" class=\"dataframe\">\n",
       "  <thead>\n",
       "    <tr style=\"text-align: right;\">\n",
       "      <th></th>\n",
       "      <th>idnumber</th>\n",
       "      <th>userid</th>\n",
       "    </tr>\n",
       "  </thead>\n",
       "  <tbody>\n",
       "    <tr>\n",
       "      <th>0</th>\n",
       "      <td>100019</td>\n",
       "      <td>1dc132aa79c22b2e6ca16c048f22a33faadc5581ecb152...</td>\n",
       "    </tr>\n",
       "    <tr>\n",
       "      <th>1</th>\n",
       "      <td>100019</td>\n",
       "      <td>1dc132aa79c22b2e6ca16c048f22a33faadc5581ecb152...</td>\n",
       "    </tr>\n",
       "    <tr>\n",
       "      <th>2</th>\n",
       "      <td>104542</td>\n",
       "      <td>576e91b29686a6ca6eddf8574371b13ed6da7f9e003ea8...</td>\n",
       "    </tr>\n",
       "    <tr>\n",
       "      <th>3</th>\n",
       "      <td>100983</td>\n",
       "      <td>22ea3218a34319d0b0ef096953ceceea3ca5033db97fc1...</td>\n",
       "    </tr>\n",
       "    <tr>\n",
       "      <th>4</th>\n",
       "      <td>100983</td>\n",
       "      <td>22ea3218a34319d0b0ef096953ceceea3ca5033db97fc1...</td>\n",
       "    </tr>\n",
       "    <tr>\n",
       "      <th>...</th>\n",
       "      <td>...</td>\n",
       "      <td>...</td>\n",
       "    </tr>\n",
       "    <tr>\n",
       "      <th>488327</th>\n",
       "      <td>97170</td>\n",
       "      <td>047171d17550324f54c873c6b5045f573893c6b99c1cfd...</td>\n",
       "    </tr>\n",
       "    <tr>\n",
       "      <th>488328</th>\n",
       "      <td>97170</td>\n",
       "      <td>047171d17550324f54c873c6b5045f573893c6b99c1cfd...</td>\n",
       "    </tr>\n",
       "    <tr>\n",
       "      <th>488329</th>\n",
       "      <td>97351</td>\n",
       "      <td>eb0d645a76e6853af0aca20b36bcdc1cc2bdcecf128632...</td>\n",
       "    </tr>\n",
       "    <tr>\n",
       "      <th>488330</th>\n",
       "      <td>97351</td>\n",
       "      <td>eb0d645a76e6853af0aca20b36bcdc1cc2bdcecf128632...</td>\n",
       "    </tr>\n",
       "    <tr>\n",
       "      <th>488331</th>\n",
       "      <td>97351</td>\n",
       "      <td>eb0d645a76e6853af0aca20b36bcdc1cc2bdcecf128632...</td>\n",
       "    </tr>\n",
       "  </tbody>\n",
       "</table>\n",
       "<p>488332 rows × 2 columns</p>\n",
       "</div>"
      ],
      "text/plain": [
       "       idnumber                                             userid\n",
       "0        100019  1dc132aa79c22b2e6ca16c048f22a33faadc5581ecb152...\n",
       "1        100019  1dc132aa79c22b2e6ca16c048f22a33faadc5581ecb152...\n",
       "2        104542  576e91b29686a6ca6eddf8574371b13ed6da7f9e003ea8...\n",
       "3        100983  22ea3218a34319d0b0ef096953ceceea3ca5033db97fc1...\n",
       "4        100983  22ea3218a34319d0b0ef096953ceceea3ca5033db97fc1...\n",
       "...         ...                                                ...\n",
       "488327    97170  047171d17550324f54c873c6b5045f573893c6b99c1cfd...\n",
       "488328    97170  047171d17550324f54c873c6b5045f573893c6b99c1cfd...\n",
       "488329    97351  eb0d645a76e6853af0aca20b36bcdc1cc2bdcecf128632...\n",
       "488330    97351  eb0d645a76e6853af0aca20b36bcdc1cc2bdcecf128632...\n",
       "488331    97351  eb0d645a76e6853af0aca20b36bcdc1cc2bdcecf128632...\n",
       "\n",
       "[488332 rows x 2 columns]"
      ]
     },
     "execution_count": 8,
     "metadata": {},
     "output_type": "execute_result"
    }
   ],
   "source": [
    "# Show the results\n",
    "data_csv[['idnumber', 'userid']]"
   ]
  },
  {
   "cell_type": "code",
   "execution_count": 9,
   "metadata": {},
   "outputs": [],
   "source": [
    "# Removing unnecessary columns \n",
    "df = data_csv.drop(['idnumber', 'username', 'firstname', 'lastname', 'id.1', 'eventname', 'ip', 'departamento'], axis=1)"
   ]
  },
  {
   "cell_type": "code",
   "execution_count": 10,
   "metadata": {},
   "outputs": [
    {
     "data": {
      "text/html": [
       "<div>\n",
       "<style scoped>\n",
       "    .dataframe tbody tr th:only-of-type {\n",
       "        vertical-align: middle;\n",
       "    }\n",
       "\n",
       "    .dataframe tbody tr th {\n",
       "        vertical-align: top;\n",
       "    }\n",
       "\n",
       "    .dataframe thead th {\n",
       "        text-align: right;\n",
       "    }\n",
       "</style>\n",
       "<table border=\"1\" class=\"dataframe\">\n",
       "  <thead>\n",
       "    <tr style=\"text-align: right;\">\n",
       "      <th></th>\n",
       "      <th>id</th>\n",
       "      <th>department</th>\n",
       "      <th>timecreated</th>\n",
       "      <th>rol</th>\n",
       "      <th>userid</th>\n",
       "    </tr>\n",
       "  </thead>\n",
       "  <tbody>\n",
       "    <tr>\n",
       "      <th>0</th>\n",
       "      <td>1511</td>\n",
       "      <td>Adminis. en Finanzas y Negocios Internac</td>\n",
       "      <td>1709571736</td>\n",
       "      <td>student</td>\n",
       "      <td>1dc132aa79c22b2e6ca16c048f22a33faadc5581ecb152...</td>\n",
       "    </tr>\n",
       "    <tr>\n",
       "      <th>1</th>\n",
       "      <td>1511</td>\n",
       "      <td>Adminis. en Finanzas y Negocios Internac</td>\n",
       "      <td>1709585220</td>\n",
       "      <td>student</td>\n",
       "      <td>1dc132aa79c22b2e6ca16c048f22a33faadc5581ecb152...</td>\n",
       "    </tr>\n",
       "    <tr>\n",
       "      <th>2</th>\n",
       "      <td>1278</td>\n",
       "      <td>NaN</td>\n",
       "      <td>1709596574</td>\n",
       "      <td>student</td>\n",
       "      <td>576e91b29686a6ca6eddf8574371b13ed6da7f9e003ea8...</td>\n",
       "    </tr>\n",
       "    <tr>\n",
       "      <th>3</th>\n",
       "      <td>1218</td>\n",
       "      <td>Adminis. en Finanzas y Negocios Internac</td>\n",
       "      <td>1709609403</td>\n",
       "      <td>student</td>\n",
       "      <td>22ea3218a34319d0b0ef096953ceceea3ca5033db97fc1...</td>\n",
       "    </tr>\n",
       "    <tr>\n",
       "      <th>4</th>\n",
       "      <td>1218</td>\n",
       "      <td>Adminis. en Finanzas y Negocios Internac</td>\n",
       "      <td>1709618744</td>\n",
       "      <td>student</td>\n",
       "      <td>22ea3218a34319d0b0ef096953ceceea3ca5033db97fc1...</td>\n",
       "    </tr>\n",
       "  </tbody>\n",
       "</table>\n",
       "</div>"
      ],
      "text/plain": [
       "     id                                department  timecreated      rol  \\\n",
       "0  1511  Adminis. en Finanzas y Negocios Internac   1709571736  student   \n",
       "1  1511  Adminis. en Finanzas y Negocios Internac   1709585220  student   \n",
       "2  1278                                       NaN   1709596574  student   \n",
       "3  1218  Adminis. en Finanzas y Negocios Internac   1709609403  student   \n",
       "4  1218  Adminis. en Finanzas y Negocios Internac   1709618744  student   \n",
       "\n",
       "                                              userid  \n",
       "0  1dc132aa79c22b2e6ca16c048f22a33faadc5581ecb152...  \n",
       "1  1dc132aa79c22b2e6ca16c048f22a33faadc5581ecb152...  \n",
       "2  576e91b29686a6ca6eddf8574371b13ed6da7f9e003ea8...  \n",
       "3  22ea3218a34319d0b0ef096953ceceea3ca5033db97fc1...  \n",
       "4  22ea3218a34319d0b0ef096953ceceea3ca5033db97fc1...  "
      ]
     },
     "execution_count": 10,
     "metadata": {},
     "output_type": "execute_result"
    }
   ],
   "source": [
    "df.head(5)"
   ]
  },
  {
   "cell_type": "code",
   "execution_count": 11,
   "metadata": {},
   "outputs": [],
   "source": [
    "# Filter only teachers\n",
    "df_teacher = df[ df.rol == 'editingteacher' ]"
   ]
  },
  {
   "cell_type": "code",
   "execution_count": 12,
   "metadata": {},
   "outputs": [],
   "source": [
    "# Export data\n",
    "df_teacher.to_csv('user_loggedin_teacher.csv')"
   ]
  }
 ],
 "metadata": {
  "kernelspec": {
   "display_name": ".venv",
   "language": "python",
   "name": "python3"
  },
  "language_info": {
   "codemirror_mode": {
    "name": "ipython",
    "version": 3
   },
   "file_extension": ".py",
   "mimetype": "text/x-python",
   "name": "python",
   "nbconvert_exporter": "python",
   "pygments_lexer": "ipython3",
   "version": "3.12.0"
  }
 },
 "nbformat": 4,
 "nbformat_minor": 2
}
