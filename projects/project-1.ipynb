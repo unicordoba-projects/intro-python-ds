{
 "cells": [
  {
   "cell_type": "code",
   "execution_count": 1,
   "metadata": {},
   "outputs": [],
   "source": [
    "import pandas as pd\n"
   ]
  },
  {
   "cell_type": "code",
   "execution_count": 3,
   "metadata": {},
   "outputs": [],
   "source": [
    "# Load data\n",
    "df = pd.read_csv('user_loggedin_teacher.csv', delimiter=',')"
   ]
  },
  {
   "cell_type": "code",
   "execution_count": 11,
   "metadata": {},
   "outputs": [
    {
     "name": "stdout",
     "output_type": "stream",
     "text": [
      "<class 'pandas.core.frame.DataFrame'>\n",
      "Index: 18949 entries, 121884 to 460426\n",
      "Data columns (total 5 columns):\n",
      " #   Column       Non-Null Count  Dtype \n",
      "---  ------       --------------  ----- \n",
      " 0   id           18949 non-null  int64 \n",
      " 1   department   17846 non-null  object\n",
      " 2   timecreated  18949 non-null  int64 \n",
      " 3   rol          18949 non-null  object\n",
      " 4   userid       18949 non-null  object\n",
      "dtypes: int64(2), object(3)\n",
      "memory usage: 888.2+ KB\n"
     ]
    }
   ],
   "source": [
    "df.info()"
   ]
  },
  {
   "cell_type": "code",
   "execution_count": 12,
   "metadata": {},
   "outputs": [
    {
     "data": {
      "text/plain": [
       "array(['Departamento De Español y Literatura',\n",
       "       'Departamento De Informática Educativa',\n",
       "       'Departamento de Salud Pública', nan, 'Dpto De Ciencias Naturales',\n",
       "       'Departamento De Ciencias Jurídicas',\n",
       "       'Departamento De Ingeniería Industrial',\n",
       "       'Dpto De Ing Agronómica Y Desarroll Rural',\n",
       "       'Dpto Ciencias Administrativas', 'Departamento De Enfermería',\n",
       "       'Departamento De Idiomas Extranjeros', 'Departamento De Química',\n",
       "       'Dpto De Ing De Sistemas Y Telecomunicaci',\n",
       "       'Departamento De Matemáticas Y Estadístic',\n",
       "       'Departamento de Regencía Y Farmacia', 'Departamento De Biología',\n",
       "       'Departamento de Psicopedagogía', 'Dpto De Ingeniería Ambiental',\n",
       "       'Dpto De Cultura Física, Recreac Y Deport',\n",
       "       'Departamento De Ciencias Pecuarías',\n",
       "       'Departamento De Geografía Y Medio Ambien',\n",
       "       'Departamento De Bacteriología',\n",
       "       'Departamento de Física y Electrónica', ' Ingeniería Mecánica',\n",
       "       'ENFERMERÍA', 'Departamento De Ciencias Sociales', 'ENFERMERÍA ',\n",
       "       'Departamento de Ciencias Acuícolas', 'Lic en Informática',\n",
       "       'Regencia de Farmacia', 'Departamento De Ingeniería de Alimentos',\n",
       "       'Departamento de Ingeniería Mecánica', 'Informática',\n",
       "       'Ingeniería Ambiental ', 'Departamento de Psicopedagoga',\n",
       "       'Departamento de Artes', 'CIENCIAS JURÍDICAS', 'INFORMÁTICA',\n",
       "       'Departamento De Ciencias Jurdicas',\n",
       "       'DEPARTAMENTO DE BACTERIOLOGIA D P',\n",
       "       'Departamento de Salud Pblica', 'DEPARTAMENTO DE ENFERMERIA D P',\n",
       "       'MATEMATICA Y ESTADISTICA', 'ADMINISTRACIÓN EN SALUD', 'GEOGRAFÍA',\n",
       "       'PSICOPEDAGOGIA', 'Ingeniería ',\n",
       "       'DEPARTAMENTO DE IDIOMAS EXTRANJEROS D P',\n",
       "       'DECANATURA FACULTAD DE CIENCIAS AGRICOLAS D P',\n",
       "       'Administración en Salud', 'Fsica', 'INFORMATICA',\n",
       "       'Ingeniería Ambiental', 'DEPARTAMENTO DE SALUD PUBLICA D P',\n",
       "       'DEPARTAMENTO DE CIENCIAS ACUICOLAS D P',\n",
       "       'Departamento De Informtica Educativa',\n",
       "       'Departamento De Geografa Y Medio Ambien',\n",
       "       'Dpto De Cultura Fsica, Recreac Y Deport', 'BIOLOGIA',\n",
       "       'DEPARTAMENTO DE INGENIERIA AMBIENTAL D P',\n",
       "       'DEPARTAMENTO DE FISICA Y ELECTRONICA D P'], dtype=object)"
      ]
     },
     "execution_count": 12,
     "metadata": {},
     "output_type": "execute_result"
    }
   ],
   "source": [
    "df['department'].unique()"
   ]
  },
  {
   "cell_type": "code",
   "execution_count": 4,
   "metadata": {},
   "outputs": [],
   "source": [
    "# 1. Clear the Department column "
   ]
  },
  {
   "cell_type": "code",
   "execution_count": 5,
   "metadata": {},
   "outputs": [],
   "source": [
    "# 2. Show total login by department and bar graph"
   ]
  },
  {
   "cell_type": "code",
   "execution_count": 6,
   "metadata": {},
   "outputs": [],
   "source": [
    "# 3. Display the total number of logins per teacher in a specific program"
   ]
  },
  {
   "cell_type": "code",
   "execution_count": 7,
   "metadata": {},
   "outputs": [],
   "source": [
    "# 4. Login bar graph by department"
   ]
  },
  {
   "cell_type": "code",
   "execution_count": 8,
   "metadata": {},
   "outputs": [],
   "source": [
    "# 5. Login boxplot graph by department"
   ]
  },
  {
   "cell_type": "code",
   "execution_count": 9,
   "metadata": {},
   "outputs": [],
   "source": [
    "# 6. Login average by department"
   ]
  },
  {
   "cell_type": "code",
   "execution_count": 10,
   "metadata": {},
   "outputs": [],
   "source": [
    "# 7. Quartiles of teachers by department"
   ]
  }
 ],
 "metadata": {
  "kernelspec": {
   "display_name": ".venv",
   "language": "python",
   "name": "python3"
  },
  "language_info": {
   "codemirror_mode": {
    "name": "ipython",
    "version": 3
   },
   "file_extension": ".py",
   "mimetype": "text/x-python",
   "name": "python",
   "nbconvert_exporter": "python",
   "pygments_lexer": "ipython3",
   "version": "3.12.0"
  }
 },
 "nbformat": 4,
 "nbformat_minor": 2
}
