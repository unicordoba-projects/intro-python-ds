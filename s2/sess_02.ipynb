{
 "cells": [
  {
   "cell_type": "markdown",
   "metadata": {},
   "source": [
    "## Filtering, Sorting and Grouping\n",
    "Percentage of the bachelor degrees women in the USA"
   ]
  },
  {
   "cell_type": "code",
   "execution_count": 3,
   "metadata": {},
   "outputs": [],
   "source": [
    "import pandas as pd"
   ]
  },
  {
   "cell_type": "code",
   "execution_count": 27,
   "metadata": {},
   "outputs": [],
   "source": [
    "data = pd.DataFrame({'program': [\"Ingeniería de mecanica\", \"Ingenieria industrial\", \"Ingenieria sistemas\", \n",
    "                                 \"Bacteriología\", \"Finanzas y negocios internacionales\", \"Derecho\", \"Ingeniería alimentos\", \n",
    "                                 \"Ingeniería ambiental\"],\n",
    "                     'age': [35, 30, 57, 65, 25, 19, 20, 65],\n",
    "                     'salary': [160000, 90000, 250000, 170000, 70000, 100000, 145000, 80000],\n",
    "                     'students': [600, 400, 250, 320, 800, 180, 220, 295],\n",
    "                     'faculty': [\"Ingenierías\", \"Ingenierías\", \"Ingenierías\", \"Salud\", \"CEJA\", \"CEJA\", \"Ingenierías\", \"Ingenierías\"]\n",
    "                    })"
   ]
  },
  {
   "cell_type": "code",
   "execution_count": 28,
   "metadata": {},
   "outputs": [
    {
     "data": {
      "text/html": [
       "<div>\n",
       "<style scoped>\n",
       "    .dataframe tbody tr th:only-of-type {\n",
       "        vertical-align: middle;\n",
       "    }\n",
       "\n",
       "    .dataframe tbody tr th {\n",
       "        vertical-align: top;\n",
       "    }\n",
       "\n",
       "    .dataframe thead th {\n",
       "        text-align: right;\n",
       "    }\n",
       "</style>\n",
       "<table border=\"1\" class=\"dataframe\">\n",
       "  <thead>\n",
       "    <tr style=\"text-align: right;\">\n",
       "      <th></th>\n",
       "      <th>program</th>\n",
       "      <th>age</th>\n",
       "      <th>salary</th>\n",
       "      <th>students</th>\n",
       "      <th>faculty</th>\n",
       "    </tr>\n",
       "  </thead>\n",
       "  <tbody>\n",
       "    <tr>\n",
       "      <th>2</th>\n",
       "      <td>Ingenieria sistemas</td>\n",
       "      <td>57</td>\n",
       "      <td>250000</td>\n",
       "      <td>250</td>\n",
       "      <td>Ingenierías</td>\n",
       "    </tr>\n",
       "    <tr>\n",
       "      <th>3</th>\n",
       "      <td>Bacteriología</td>\n",
       "      <td>65</td>\n",
       "      <td>170000</td>\n",
       "      <td>320</td>\n",
       "      <td>Salud</td>\n",
       "    </tr>\n",
       "    <tr>\n",
       "      <th>0</th>\n",
       "      <td>Ingeniería de mecanica</td>\n",
       "      <td>35</td>\n",
       "      <td>160000</td>\n",
       "      <td>600</td>\n",
       "      <td>Ingenierías</td>\n",
       "    </tr>\n",
       "    <tr>\n",
       "      <th>6</th>\n",
       "      <td>Ingeniería alimentos</td>\n",
       "      <td>20</td>\n",
       "      <td>145000</td>\n",
       "      <td>220</td>\n",
       "      <td>Ingenierías</td>\n",
       "    </tr>\n",
       "    <tr>\n",
       "      <th>5</th>\n",
       "      <td>Derecho</td>\n",
       "      <td>19</td>\n",
       "      <td>100000</td>\n",
       "      <td>180</td>\n",
       "      <td>CEJA</td>\n",
       "    </tr>\n",
       "    <tr>\n",
       "      <th>1</th>\n",
       "      <td>Ingenieria industrial</td>\n",
       "      <td>30</td>\n",
       "      <td>90000</td>\n",
       "      <td>400</td>\n",
       "      <td>Ingenierías</td>\n",
       "    </tr>\n",
       "    <tr>\n",
       "      <th>7</th>\n",
       "      <td>Ingeniería ambiental</td>\n",
       "      <td>65</td>\n",
       "      <td>80000</td>\n",
       "      <td>295</td>\n",
       "      <td>Ingenierías</td>\n",
       "    </tr>\n",
       "    <tr>\n",
       "      <th>4</th>\n",
       "      <td>Finanzas y negocios internacionales</td>\n",
       "      <td>25</td>\n",
       "      <td>70000</td>\n",
       "      <td>800</td>\n",
       "      <td>CEJA</td>\n",
       "    </tr>\n",
       "  </tbody>\n",
       "</table>\n",
       "</div>"
      ],
      "text/plain": [
       "                               program  age  salary  students      faculty\n",
       "2                  Ingenieria sistemas   57  250000       250  Ingenierías\n",
       "3                        Bacteriología   65  170000       320        Salud\n",
       "0               Ingeniería de mecanica   35  160000       600  Ingenierías\n",
       "6                 Ingeniería alimentos   20  145000       220  Ingenierías\n",
       "5                              Derecho   19  100000       180         CEJA\n",
       "1                Ingenieria industrial   30   90000       400  Ingenierías\n",
       "7                 Ingeniería ambiental   65   80000       295  Ingenierías\n",
       "4  Finanzas y negocios internacionales   25   70000       800         CEJA"
      ]
     },
     "execution_count": 28,
     "metadata": {},
     "output_type": "execute_result"
    }
   ],
   "source": [
    "data.sort_values(by='salary', ascending=False)"
   ]
  },
  {
   "cell_type": "code",
   "execution_count": 29,
   "metadata": {},
   "outputs": [
    {
     "data": {
      "text/html": [
       "<div>\n",
       "<style scoped>\n",
       "    .dataframe tbody tr th:only-of-type {\n",
       "        vertical-align: middle;\n",
       "    }\n",
       "\n",
       "    .dataframe tbody tr th {\n",
       "        vertical-align: top;\n",
       "    }\n",
       "\n",
       "    .dataframe thead th {\n",
       "        text-align: right;\n",
       "    }\n",
       "</style>\n",
       "<table border=\"1\" class=\"dataframe\">\n",
       "  <thead>\n",
       "    <tr style=\"text-align: right;\">\n",
       "      <th></th>\n",
       "      <th>program</th>\n",
       "      <th>age</th>\n",
       "      <th>salary</th>\n",
       "      <th>students</th>\n",
       "      <th>faculty</th>\n",
       "    </tr>\n",
       "  </thead>\n",
       "  <tbody>\n",
       "    <tr>\n",
       "      <th>4</th>\n",
       "      <td>Finanzas y negocios internacionales</td>\n",
       "      <td>25</td>\n",
       "      <td>70000</td>\n",
       "      <td>800</td>\n",
       "      <td>CEJA</td>\n",
       "    </tr>\n",
       "    <tr>\n",
       "      <th>7</th>\n",
       "      <td>Ingeniería ambiental</td>\n",
       "      <td>65</td>\n",
       "      <td>80000</td>\n",
       "      <td>295</td>\n",
       "      <td>Ingenierías</td>\n",
       "    </tr>\n",
       "    <tr>\n",
       "      <th>1</th>\n",
       "      <td>Ingenieria industrial</td>\n",
       "      <td>30</td>\n",
       "      <td>90000</td>\n",
       "      <td>400</td>\n",
       "      <td>Ingenierías</td>\n",
       "    </tr>\n",
       "    <tr>\n",
       "      <th>5</th>\n",
       "      <td>Derecho</td>\n",
       "      <td>19</td>\n",
       "      <td>100000</td>\n",
       "      <td>180</td>\n",
       "      <td>CEJA</td>\n",
       "    </tr>\n",
       "    <tr>\n",
       "      <th>6</th>\n",
       "      <td>Ingeniería alimentos</td>\n",
       "      <td>20</td>\n",
       "      <td>145000</td>\n",
       "      <td>220</td>\n",
       "      <td>Ingenierías</td>\n",
       "    </tr>\n",
       "    <tr>\n",
       "      <th>0</th>\n",
       "      <td>Ingeniería de mecanica</td>\n",
       "      <td>35</td>\n",
       "      <td>160000</td>\n",
       "      <td>600</td>\n",
       "      <td>Ingenierías</td>\n",
       "    </tr>\n",
       "    <tr>\n",
       "      <th>3</th>\n",
       "      <td>Bacteriología</td>\n",
       "      <td>65</td>\n",
       "      <td>170000</td>\n",
       "      <td>320</td>\n",
       "      <td>Salud</td>\n",
       "    </tr>\n",
       "    <tr>\n",
       "      <th>2</th>\n",
       "      <td>Ingenieria sistemas</td>\n",
       "      <td>57</td>\n",
       "      <td>250000</td>\n",
       "      <td>250</td>\n",
       "      <td>Ingenierías</td>\n",
       "    </tr>\n",
       "  </tbody>\n",
       "</table>\n",
       "</div>"
      ],
      "text/plain": [
       "                               program  age  salary  students      faculty\n",
       "4  Finanzas y negocios internacionales   25   70000       800         CEJA\n",
       "7                 Ingeniería ambiental   65   80000       295  Ingenierías\n",
       "1                Ingenieria industrial   30   90000       400  Ingenierías\n",
       "5                              Derecho   19  100000       180         CEJA\n",
       "6                 Ingeniería alimentos   20  145000       220  Ingenierías\n",
       "0               Ingeniería de mecanica   35  160000       600  Ingenierías\n",
       "3                        Bacteriología   65  170000       320        Salud\n",
       "2                  Ingenieria sistemas   57  250000       250  Ingenierías"
      ]
     },
     "execution_count": 29,
     "metadata": {},
     "output_type": "execute_result"
    }
   ],
   "source": [
    "data.sort_values(by='salary', ascending=True)"
   ]
  },
  {
   "cell_type": "code",
   "execution_count": 31,
   "metadata": {},
   "outputs": [
    {
     "data": {
      "text/html": [
       "<div>\n",
       "<style scoped>\n",
       "    .dataframe tbody tr th:only-of-type {\n",
       "        vertical-align: middle;\n",
       "    }\n",
       "\n",
       "    .dataframe tbody tr th {\n",
       "        vertical-align: top;\n",
       "    }\n",
       "\n",
       "    .dataframe thead th {\n",
       "        text-align: right;\n",
       "    }\n",
       "</style>\n",
       "<table border=\"1\" class=\"dataframe\">\n",
       "  <thead>\n",
       "    <tr style=\"text-align: right;\">\n",
       "      <th></th>\n",
       "      <th>program</th>\n",
       "      <th>age</th>\n",
       "      <th>salary</th>\n",
       "      <th>students</th>\n",
       "    </tr>\n",
       "    <tr>\n",
       "      <th>faculty</th>\n",
       "      <th></th>\n",
       "      <th></th>\n",
       "      <th></th>\n",
       "      <th></th>\n",
       "    </tr>\n",
       "  </thead>\n",
       "  <tbody>\n",
       "    <tr>\n",
       "      <th>CEJA</th>\n",
       "      <td>2</td>\n",
       "      <td>2</td>\n",
       "      <td>2</td>\n",
       "      <td>2</td>\n",
       "    </tr>\n",
       "    <tr>\n",
       "      <th>Ingenierías</th>\n",
       "      <td>5</td>\n",
       "      <td>5</td>\n",
       "      <td>5</td>\n",
       "      <td>5</td>\n",
       "    </tr>\n",
       "    <tr>\n",
       "      <th>Salud</th>\n",
       "      <td>1</td>\n",
       "      <td>1</td>\n",
       "      <td>1</td>\n",
       "      <td>1</td>\n",
       "    </tr>\n",
       "  </tbody>\n",
       "</table>\n",
       "</div>"
      ],
      "text/plain": [
       "             program  age  salary  students\n",
       "faculty                                    \n",
       "CEJA               2    2       2         2\n",
       "Ingenierías        5    5       5         5\n",
       "Salud              1    1       1         1"
      ]
     },
     "execution_count": 31,
     "metadata": {},
     "output_type": "execute_result"
    }
   ],
   "source": [
    "data.groupby('faculty').count()"
   ]
  },
  {
   "cell_type": "code",
   "execution_count": 33,
   "metadata": {},
   "outputs": [
    {
     "data": {
      "text/plain": [
       "faculty\n",
       "CEJA           2\n",
       "Ingenierías    5\n",
       "Salud          1\n",
       "Name: program, dtype: int64"
      ]
     },
     "execution_count": 33,
     "metadata": {},
     "output_type": "execute_result"
    }
   ],
   "source": [
    "# Count()\n",
    "data.groupby('faculty')[\"program\"].count()"
   ]
  },
  {
   "cell_type": "code",
   "execution_count": 37,
   "metadata": {},
   "outputs": [
    {
     "data": {
      "text/plain": [
       "faculty\n",
       "CEJA           22.0\n",
       "Ingenierías    41.4\n",
       "Salud          65.0\n",
       "Name: age, dtype: float64"
      ]
     },
     "execution_count": 37,
     "metadata": {},
     "output_type": "execute_result"
    }
   ],
   "source": [
    "# Mean\n",
    "data.groupby('faculty')['age'].mean()"
   ]
  },
  {
   "cell_type": "code",
   "execution_count": 38,
   "metadata": {},
   "outputs": [
    {
     "data": {
      "text/plain": [
       "faculty\n",
       "CEJA           19\n",
       "Ingenierías    20\n",
       "Salud          65\n",
       "Name: age, dtype: int64"
      ]
     },
     "execution_count": 38,
     "metadata": {},
     "output_type": "execute_result"
    }
   ],
   "source": [
    "# Min\n",
    "data.groupby('faculty')['age'].min()"
   ]
  },
  {
   "cell_type": "code",
   "execution_count": 40,
   "metadata": {},
   "outputs": [
    {
     "data": {
      "text/plain": [
       "faculty\n",
       "CEJA           25\n",
       "Ingenierías    65\n",
       "Salud          65\n",
       "Name: age, dtype: int64"
      ]
     },
     "execution_count": 40,
     "metadata": {},
     "output_type": "execute_result"
    }
   ],
   "source": [
    "# Max\n",
    "data.groupby('faculty')['age'].max()"
   ]
  },
  {
   "cell_type": "code",
   "execution_count": 41,
   "metadata": {},
   "outputs": [
    {
     "data": {
      "text/plain": [
       "faculty\n",
       "CEJA           100000\n",
       "Ingenierías    250000\n",
       "Salud          170000\n",
       "Name: salary, dtype: int64"
      ]
     },
     "execution_count": 41,
     "metadata": {},
     "output_type": "execute_result"
    }
   ],
   "source": [
    "# Max\n",
    "data.groupby('faculty')['salary'].max()"
   ]
  },
  {
   "cell_type": "code",
   "execution_count": 62,
   "metadata": {},
   "outputs": [
    {
     "data": {
      "text/plain": [
       "0     True\n",
       "1    False\n",
       "2     True\n",
       "3     True\n",
       "4    False\n",
       "5    False\n",
       "6     True\n",
       "7    False\n",
       "Name: salary, dtype: bool"
      ]
     },
     "execution_count": 62,
     "metadata": {},
     "output_type": "execute_result"
    }
   ],
   "source": [
    "# Create a condition. Filter based in a condition\n",
    "data['salary'] > 100000"
   ]
  },
  {
   "cell_type": "code",
   "execution_count": 52,
   "metadata": {},
   "outputs": [
    {
     "data": {
      "text/html": [
       "<div>\n",
       "<style scoped>\n",
       "    .dataframe tbody tr th:only-of-type {\n",
       "        vertical-align: middle;\n",
       "    }\n",
       "\n",
       "    .dataframe tbody tr th {\n",
       "        vertical-align: top;\n",
       "    }\n",
       "\n",
       "    .dataframe thead th {\n",
       "        text-align: right;\n",
       "    }\n",
       "</style>\n",
       "<table border=\"1\" class=\"dataframe\">\n",
       "  <thead>\n",
       "    <tr style=\"text-align: right;\">\n",
       "      <th></th>\n",
       "      <th>program</th>\n",
       "      <th>age</th>\n",
       "      <th>salary</th>\n",
       "      <th>students</th>\n",
       "      <th>faculty</th>\n",
       "    </tr>\n",
       "  </thead>\n",
       "  <tbody>\n",
       "    <tr>\n",
       "      <th>0</th>\n",
       "      <td>Ingeniería de mecanica</td>\n",
       "      <td>35</td>\n",
       "      <td>160000</td>\n",
       "      <td>600</td>\n",
       "      <td>Ingenierías</td>\n",
       "    </tr>\n",
       "    <tr>\n",
       "      <th>2</th>\n",
       "      <td>Ingenieria sistemas</td>\n",
       "      <td>57</td>\n",
       "      <td>250000</td>\n",
       "      <td>250</td>\n",
       "      <td>Ingenierías</td>\n",
       "    </tr>\n",
       "    <tr>\n",
       "      <th>3</th>\n",
       "      <td>Bacteriología</td>\n",
       "      <td>65</td>\n",
       "      <td>170000</td>\n",
       "      <td>320</td>\n",
       "      <td>Salud</td>\n",
       "    </tr>\n",
       "    <tr>\n",
       "      <th>6</th>\n",
       "      <td>Ingeniería alimentos</td>\n",
       "      <td>20</td>\n",
       "      <td>145000</td>\n",
       "      <td>220</td>\n",
       "      <td>Ingenierías</td>\n",
       "    </tr>\n",
       "  </tbody>\n",
       "</table>\n",
       "</div>"
      ],
      "text/plain": [
       "                  program  age  salary  students      faculty\n",
       "0  Ingeniería de mecanica   35  160000       600  Ingenierías\n",
       "2     Ingenieria sistemas   57  250000       250  Ingenierías\n",
       "3           Bacteriología   65  170000       320        Salud\n",
       "6    Ingeniería alimentos   20  145000       220  Ingenierías"
      ]
     },
     "execution_count": 52,
     "metadata": {},
     "output_type": "execute_result"
    }
   ],
   "source": [
    "# type(data['salary'] > 100000)\n",
    "\n",
    "data[data['salary'] > 100000]"
   ]
  },
  {
   "cell_type": "code",
   "execution_count": 61,
   "metadata": {},
   "outputs": [
    {
     "data": {
      "text/html": [
       "<div>\n",
       "<style scoped>\n",
       "    .dataframe tbody tr th:only-of-type {\n",
       "        vertical-align: middle;\n",
       "    }\n",
       "\n",
       "    .dataframe tbody tr th {\n",
       "        vertical-align: top;\n",
       "    }\n",
       "\n",
       "    .dataframe thead th {\n",
       "        text-align: right;\n",
       "    }\n",
       "</style>\n",
       "<table border=\"1\" class=\"dataframe\">\n",
       "  <thead>\n",
       "    <tr style=\"text-align: right;\">\n",
       "      <th></th>\n",
       "      <th>program</th>\n",
       "      <th>age</th>\n",
       "      <th>salary</th>\n",
       "      <th>students</th>\n",
       "      <th>faculty</th>\n",
       "    </tr>\n",
       "  </thead>\n",
       "  <tbody>\n",
       "    <tr>\n",
       "      <th>2</th>\n",
       "      <td>Ingenieria sistemas</td>\n",
       "      <td>57</td>\n",
       "      <td>250000</td>\n",
       "      <td>250</td>\n",
       "      <td>Ingenierías</td>\n",
       "    </tr>\n",
       "    <tr>\n",
       "      <th>3</th>\n",
       "      <td>Bacteriología</td>\n",
       "      <td>65</td>\n",
       "      <td>170000</td>\n",
       "      <td>320</td>\n",
       "      <td>Salud</td>\n",
       "    </tr>\n",
       "  </tbody>\n",
       "</table>\n",
       "</div>"
      ],
      "text/plain": [
       "               program  age  salary  students      faculty\n",
       "2  Ingenieria sistemas   57  250000       250  Ingenierías\n",
       "3        Bacteriología   65  170000       320        Salud"
      ]
     },
     "execution_count": 61,
     "metadata": {},
     "output_type": "execute_result"
    }
   ],
   "source": [
    "data[(data['salary'] > 100000) & (data['age'] > 40)]\n",
    "# (data[data['salary']] > 100000) and (data[data['age']] > 40)"
   ]
  },
  {
   "cell_type": "code",
   "execution_count": 65,
   "metadata": {},
   "outputs": [
    {
     "data": {
      "text/html": [
       "<div>\n",
       "<style scoped>\n",
       "    .dataframe tbody tr th:only-of-type {\n",
       "        vertical-align: middle;\n",
       "    }\n",
       "\n",
       "    .dataframe tbody tr th {\n",
       "        vertical-align: top;\n",
       "    }\n",
       "\n",
       "    .dataframe thead th {\n",
       "        text-align: right;\n",
       "    }\n",
       "</style>\n",
       "<table border=\"1\" class=\"dataframe\">\n",
       "  <thead>\n",
       "    <tr style=\"text-align: right;\">\n",
       "      <th></th>\n",
       "      <th>program</th>\n",
       "      <th>age</th>\n",
       "      <th>salary</th>\n",
       "      <th>students</th>\n",
       "      <th>faculty</th>\n",
       "    </tr>\n",
       "  </thead>\n",
       "  <tbody>\n",
       "    <tr>\n",
       "      <th>0</th>\n",
       "      <td>Ingeniería de mecanica</td>\n",
       "      <td>35</td>\n",
       "      <td>160000</td>\n",
       "      <td>600</td>\n",
       "      <td>Ingenierías</td>\n",
       "    </tr>\n",
       "    <tr>\n",
       "      <th>1</th>\n",
       "      <td>Ingenieria industrial</td>\n",
       "      <td>30</td>\n",
       "      <td>90000</td>\n",
       "      <td>400</td>\n",
       "      <td>Ingenierías</td>\n",
       "    </tr>\n",
       "    <tr>\n",
       "      <th>2</th>\n",
       "      <td>Ingenieria sistemas</td>\n",
       "      <td>57</td>\n",
       "      <td>250000</td>\n",
       "      <td>250</td>\n",
       "      <td>Ingenierías</td>\n",
       "    </tr>\n",
       "    <tr>\n",
       "      <th>3</th>\n",
       "      <td>Bacteriología</td>\n",
       "      <td>65</td>\n",
       "      <td>170000</td>\n",
       "      <td>320</td>\n",
       "      <td>Salud</td>\n",
       "    </tr>\n",
       "    <tr>\n",
       "      <th>4</th>\n",
       "      <td>Finanzas y negocios internacionales</td>\n",
       "      <td>25</td>\n",
       "      <td>70000</td>\n",
       "      <td>800</td>\n",
       "      <td>CEJA</td>\n",
       "    </tr>\n",
       "    <tr>\n",
       "      <th>5</th>\n",
       "      <td>Derecho</td>\n",
       "      <td>19</td>\n",
       "      <td>100000</td>\n",
       "      <td>180</td>\n",
       "      <td>CEJA</td>\n",
       "    </tr>\n",
       "    <tr>\n",
       "      <th>6</th>\n",
       "      <td>Ingeniería alimentos</td>\n",
       "      <td>20</td>\n",
       "      <td>145000</td>\n",
       "      <td>220</td>\n",
       "      <td>Ingenierías</td>\n",
       "    </tr>\n",
       "    <tr>\n",
       "      <th>7</th>\n",
       "      <td>Ingeniería ambiental</td>\n",
       "      <td>65</td>\n",
       "      <td>80000</td>\n",
       "      <td>295</td>\n",
       "      <td>Ingenierías</td>\n",
       "    </tr>\n",
       "  </tbody>\n",
       "</table>\n",
       "</div>"
      ],
      "text/plain": [
       "                               program  age  salary  students      faculty\n",
       "0               Ingeniería de mecanica   35  160000       600  Ingenierías\n",
       "1                Ingenieria industrial   30   90000       400  Ingenierías\n",
       "2                  Ingenieria sistemas   57  250000       250  Ingenierías\n",
       "3                        Bacteriología   65  170000       320        Salud\n",
       "4  Finanzas y negocios internacionales   25   70000       800         CEJA\n",
       "5                              Derecho   19  100000       180         CEJA\n",
       "6                 Ingeniería alimentos   20  145000       220  Ingenierías\n",
       "7                 Ingeniería ambiental   65   80000       295  Ingenierías"
      ]
     },
     "execution_count": 65,
     "metadata": {},
     "output_type": "execute_result"
    }
   ],
   "source": [
    "data"
   ]
  },
  {
   "cell_type": "code",
   "execution_count": 67,
   "metadata": {},
   "outputs": [
    {
     "data": {
      "text/html": [
       "<div>\n",
       "<style scoped>\n",
       "    .dataframe tbody tr th:only-of-type {\n",
       "        vertical-align: middle;\n",
       "    }\n",
       "\n",
       "    .dataframe tbody tr th {\n",
       "        vertical-align: top;\n",
       "    }\n",
       "\n",
       "    .dataframe thead th {\n",
       "        text-align: right;\n",
       "    }\n",
       "</style>\n",
       "<table border=\"1\" class=\"dataframe\">\n",
       "  <thead>\n",
       "    <tr style=\"text-align: right;\">\n",
       "      <th></th>\n",
       "      <th>program</th>\n",
       "      <th>age</th>\n",
       "      <th>salary</th>\n",
       "      <th>students</th>\n",
       "      <th>faculty</th>\n",
       "    </tr>\n",
       "  </thead>\n",
       "  <tbody>\n",
       "    <tr>\n",
       "      <th>0</th>\n",
       "      <td>Ingeniería de mecanica</td>\n",
       "      <td>35</td>\n",
       "      <td>160000</td>\n",
       "      <td>600</td>\n",
       "      <td>Ingenierías</td>\n",
       "    </tr>\n",
       "    <tr>\n",
       "      <th>1</th>\n",
       "      <td>Ingenieria industrial</td>\n",
       "      <td>30</td>\n",
       "      <td>90000</td>\n",
       "      <td>400</td>\n",
       "      <td>Ingenierías</td>\n",
       "    </tr>\n",
       "  </tbody>\n",
       "</table>\n",
       "</div>"
      ],
      "text/plain": [
       "                  program  age  salary  students      faculty\n",
       "0  Ingeniería de mecanica   35  160000       600  Ingenierías\n",
       "1   Ingenieria industrial   30   90000       400  Ingenierías"
      ]
     },
     "execution_count": 67,
     "metadata": {},
     "output_type": "execute_result"
    }
   ],
   "source": [
    "# data\n",
    "# data['age'].isin([35,30])\n",
    "data[ data['age'].isin([35,30]) ]"
   ]
  }
 ],
 "metadata": {
  "kernelspec": {
   "display_name": ".venv",
   "language": "python",
   "name": "python3"
  },
  "language_info": {
   "codemirror_mode": {
    "name": "ipython",
    "version": 3
   },
   "file_extension": ".py",
   "mimetype": "text/x-python",
   "name": "python",
   "nbconvert_exporter": "python",
   "pygments_lexer": "ipython3",
   "version": "3.12.0"
  }
 },
 "nbformat": 4,
 "nbformat_minor": 2
}
